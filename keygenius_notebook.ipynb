{
    "cells": [
        {
            "cell_type": "markdown",
            "source": [
                "## ⚙️ Import Packages"
            ],
            "metadata": {}
        },
        {
            "cell_type": "code",
            "execution_count": 1,
            "source": [
                "#######\r\n",
                "# Import Packages ###\r\n",
                "#######\r\n",
                "from selenium import webdriver\r\n",
                "from selenium.webdriver.chrome.options import Options\r\n",
                "from selenium.webdriver.common.by import By\r\n",
                "from selenium.webdriver.support.ui import WebDriverWait\r\n",
                "from selenium.webdriver.support import expected_conditions as EC\r\n",
                "import time\r\n",
                "import base64\r\n",
                "from language_detector import detect_language\r\n"
            ],
            "outputs": [],
            "metadata": {}
        },
        {
            "cell_type": "markdown",
            "source": [
                "## ⚙️ Welcome Maessage & Get user inputs"
            ],
            "metadata": {}
        },
        {
            "cell_type": "code",
            "execution_count": 2,
            "source": [
                "# Welcome Message\r\n",
                "print(\"Welcome to KeyGenius Program - KeyGenius is a Micro-niche Targeted keywords generator and search engine data-listner for internet marketers, markets data-scientist & data-analyse specialist.\")\r\n",
                "\r\n",
                "# Get user input\r\n",
                "root_keyword = input(\"\\n[~] What is your main Micro-niche keyword for this campaign : \")\r\n"
            ],
            "outputs": [
                {
                    "output_type": "stream",
                    "name": "stdout",
                    "text": [
                        "Welcome to KeyGenius Program - KeyGenius is a Micro-niche Targeted keywords generator and search engine data-listner for internet marketers, markets data-scientist & data-analyse specialist.\n"
                    ]
                }
            ],
            "metadata": {}
        },
        {
            "cell_type": "code",
            "execution_count": 3,
            "source": [
                "\r\n",
                "# Detect Arabic language\r\n",
                "detected_root_keyword_language = detect_language(root_keyword)\r\n",
                "if detected_root_keyword_language == \"Arabic\" :\r\n",
                "    print(\"\\n    ~ Arabic language Detected\")\r\n",
                "    print(\"    ~ Arabic language smart filter Activated\")\r\n"
            ],
            "outputs": [
                {
                    "output_type": "stream",
                    "name": "stdout",
                    "text": [
                        "\n",
                        "    ~ Arabic language Detected\n",
                        "    ~ Arabic language smart filter Activated\n"
                    ]
                }
            ],
            "metadata": {}
        },
        {
            "cell_type": "markdown",
            "source": [
                "## ⚙️ Drivers Engine / Launcher"
            ],
            "metadata": {}
        },
        {
            "cell_type": "code",
            "execution_count": 4,
            "source": [
                "#######\r\n",
                "# Launch Driver ###\r\n",
                "#######\r\n",
                "\r\n",
                "# Setting Chrome Profile Options\r\n",
                "options = webdriver.ChromeOptions()\r\n",
                "options.add_argument(r\"--user-data-dir=C:\\Users\\root\\AppData\\Local\\Google\\Chrome\\User Data\") #e.g. C:\\Users\\You\\AppData\\Local\\Google\\Chrome\\User Data\r\n",
                "options.add_argument(r'--profile-directory=Profile 7') #e.g. Profile 3driver = webdriver.Chrome(options=options)\r\n",
                "\r\n",
                "# Launch browser & navigate\r\n",
                "driver = webdriver.Chrome(options=options)\r\n",
                "driver.implicitly_wait(30)\r\n"
            ],
            "outputs": [],
            "metadata": {}
        },
        {
            "cell_type": "markdown",
            "source": [
                "## ⚙️ Check API"
            ],
            "metadata": {}
        },
        {
            "cell_type": "code",
            "execution_count": 5,
            "source": [
                "\r\n",
                "while True:\r\n",
                "    driver.get('https://sites.google.com/view/cyborgapi/keygenius-api')\r\n",
                "\r\n",
                "    api_elements = driver.find_elements_by_xpath(\"//*[contains(text(),'API.true')]\")\r\n",
                "    \r\n",
                "    if len(api_elements) == 1 :\r\n",
                "        print(\"Cyborg-API/API.ok = \" + str(len(api_elements)))\r\n",
                "        break\r\n",
                "\r\n",
                "    else:\r\n",
                "        time.sleep(1)\r\n",
                "        print(\"Cyborg-API/API.update = \" + str(len(api_elements)))\r\n",
                "        driver.refresh()\r\n",
                "        "
            ],
            "outputs": [
                {
                    "output_type": "stream",
                    "name": "stdout",
                    "text": [
                        "Cyborg-API/API.ok = 1\n"
                    ]
                }
            ],
            "metadata": {}
        },
        {
            "cell_type": "markdown",
            "source": [
                "## ⚙️ Generate a root Keywords List [ Keywords List Lv-1 ]"
            ],
            "metadata": {}
        },
        {
            "cell_type": "code",
            "execution_count": 6,
            "source": [
                "# use https://soovle.com/ to generate a rich keywords list\r\n",
                "\r\n",
                "# navigate to https://soovle.com/\r\n",
                "driver.get('https://soovle.com/')\r\n"
            ],
            "outputs": [],
            "metadata": {}
        },
        {
            "cell_type": "code",
            "execution_count": 7,
            "source": [
                "\r\n",
                "# Type your root Micro-niche keyword\r\n",
                "search_input = driver.find_element_by_xpath('//*[@id=\"searchinput\"]')\r\n",
                "search_input.clear()\r\n",
                "search_input.send_keys(root_keyword)\r\n",
                "time.sleep(3)\r\n",
                "\r\n"
            ],
            "outputs": [],
            "metadata": {}
        },
        {
            "cell_type": "code",
            "execution_count": 8,
            "source": [
                "\r\n",
                "# Scrape Generated Keywords\r\n",
                "keywords_list_lv1_elements = driver.find_elements_by_xpath('//*[@classname=\"sugg\"]')\r\n",
                "\r\n",
                "# Create keywords_list_lv1\r\n",
                "keywords_list_lv1 = []\r\n",
                "for element in keywords_list_lv1_elements :\r\n",
                "    keywords_list_lv1.append(element.text)\r\n",
                "\r\n",
                "# Arabic Language filter - [ filter keywords_list ]\r\n",
                "# 📌Build [arabic_keywords_list_filter()] Function\r\n",
                "def arabic_keywords_list_filter(source_keywords_list):\r\n",
                "    if detected_root_keyword_language == \"Arabic\" :\r\n",
                "        filtred_arabic_keywords_list = []\r\n",
                "        for keyword in source_keywords_list :\r\n",
                "            keyword_language = detect_language(keyword)\r\n",
                "            if keyword_language == \"Arabic\" :\r\n",
                "                filtred_arabic_keywords_list.append(keyword)\r\n",
                "    return filtred_arabic_keywords_list\r\n",
                "\r\n",
                "# 📌Call arabic_keywords_list_filter() Function\r\n",
                "if detected_root_keyword_language == \"Arabic\" :\r\n",
                "    keywords_list_lv1 = arabic_keywords_list_filter(keywords_list_lv1)\r\n",
                "\r\n",
                "\r\n",
                "# Remove Duplicates from keywords_list_lv1\r\n",
                "keywords_list_lv1 = list(dict.fromkeys(keywords_list_lv1))\r\n",
                "keywords_list_lv1_len = len(keywords_list_lv1)\r\n",
                "\r\n",
                "# Print Keywords List Lv-1 elements number message\r\n",
                "print(f\"\\n[+] Your Keywords list Lv-1 has {keywords_list_lv1_len} Micro-niche targeted elements :\")\r\n"
            ],
            "outputs": [
                {
                    "output_type": "stream",
                    "name": "stdout",
                    "text": [
                        "\n",
                        "[+] Your Keywords list Lv-1 has 22 Micro-niche targeted elements :\n"
                    ]
                }
            ],
            "metadata": {}
        },
        {
            "cell_type": "code",
            "execution_count": 9,
            "source": [
                "# Print Keywords List Lv-1 elements\r\n",
                "for element in keywords_list_lv1 :\r\n",
                "    print(element)"
            ],
            "outputs": [
                {
                    "output_type": "stream",
                    "name": "stdout",
                    "text": [
                        "الربح من الانترنت\n",
                        "الربح من اليوتيوب\n",
                        "الربح من التيك توك\n",
                        "الربح من الفيس بوك\n",
                        "الربح في الاسلام\n",
                        "الربح من الانستقرام\n",
                        "الربح\n",
                        "الربح من أمازون\n",
                        "الربح من التطبيقات\n",
                        "الربح من النت\n",
                        "الربح من امازون\n",
                        "كيفية الربح من الانترنت\n",
                        "شراء وبيع الاسهم بهدف الربح\n",
                        "هامش الربح\n",
                        "الربح من اختصار الروابط\n",
                        "صافي الربح\n",
                        "الربح من الترجمة\n",
                        "الربح من جوجل\n",
                        "الربح من bing\n",
                        "الربح من تيك توك\n",
                        "الربح عن طريق الانترنت\n",
                        "الربح من بلوجر\n"
                    ]
                }
            ],
            "metadata": {}
        },
        {
            "cell_type": "markdown",
            "source": [
                "## ⚙️ Generate a Extended Keywords List [ Keywords List Lv-2 ]"
            ],
            "metadata": {}
        },
        {
            "cell_type": "code",
            "execution_count": 10,
            "source": [
                "# Digg Deeper to keywords_list_lv2\r\n",
                "# Search & Scrape all relatives for every keyword in keywords_list_lv1 \r\n",
                "# [Then] - Append every \"keywords_list_lv2_part\" to keywords_list_lv2\r\n",
                "keywords_list_lv2 = []\r\n",
                "for keyword in keywords_list_lv1 :\r\n",
                "    print(f\"\\n[+] Get - {keyword} - relatives \")\r\n",
                "    search_input = driver.find_element_by_xpath('//*[@id=\"searchinput\"]')\r\n",
                "    search_input.clear()\r\n",
                "    search_input.send_keys(keyword)\r\n",
                "    # This wait element is so important to avoid \"stale\" Error\r\n",
                "    time.sleep(5)\r\n",
                "    # Scrape Generated Keywords elements\r\n",
                "    keywords_list_lv2_part_elements = driver.find_elements_by_xpath('//*[@classname=\"sugg\"]')\r\n",
                "    \r\n",
                "    # Create keywords_list_lv2_part (text elements)\r\n",
                "    keywords_list_lv2_part = []\r\n",
                "    for element in keywords_list_lv2_part_elements :\r\n",
                "        keywords_list_lv2_part.append(element.text)\r\n",
                "\r\n",
                "    # 📌Call arabic_keywords_list_filter() Function\r\n",
                "    if detected_root_keyword_language == \"Arabic\" :\r\n",
                "        keywords_list_lv2_part = arabic_keywords_list_filter(keywords_list_lv2_part)\r\n",
                "\r\n",
                "    # Print Keywords of keywords_list_lv2_part\r\n",
                "    for keyword in keywords_list_lv2_part :\r\n",
                "        print(\"    -\" + keyword)\r\n",
                "\r\n",
                "    # Append \"keywords_list_lv2_part\" to \"keywords_list_lv2\"\r\n",
                "    keywords_list_lv2.extend(keywords_list_lv2_part)\r\n",
                "\r\n",
                "# Remove Duplicates from keywords_list_lv2\r\n",
                "keywords_list_lv2 = list(dict.fromkeys(keywords_list_lv2))\r\n",
                "keywords_list_lv2_len = len(keywords_list_lv2)\r\n",
                "\r\n",
                "# Print Keywords List Lv-2\r\n",
                "print(f\"\\n[+] Your Keywords list Lv-2 has {keywords_list_lv2_len} Micro-niche targeted elements.\")\r\n",
                "\r\n",
                "\r\n",
                "# Save keywords list to Keywords_list_lv2.txt\r\n",
                "keywords_list_lv2_text_file = open(\"Keywords_data.txt\", \"w\", encoding='utf-8')\r\n",
                "for element in keywords_list_lv2:\r\n",
                "    keywords_list_lv2_text_file.write(element + \"\\n\")\r\n",
                "keywords_list_lv2_text_file.close()\r\n",
                "\r\n",
                "print(\"\\n[+] Your Micro-niche generated keywords list is saved on [Keywords_data.txt] file.\")"
            ],
            "outputs": [
                {
                    "output_type": "stream",
                    "name": "stdout",
                    "text": [
                        "\n",
                        "[+] Get - الربح من الانترنت - relatives \n"
                    ]
                },
                {
                    "output_type": "error",
                    "ename": "NameError",
                    "evalue": "name 'keyelements' is not defined",
                    "traceback": [
                        "\u001b[1;31m---------------------------------------------------------------------------\u001b[0m",
                        "\u001b[1;31mNameError\u001b[0m                                 Traceback (most recent call last)",
                        "\u001b[1;32m<ipython-input-10-dabd2a77db71>\u001b[0m in \u001b[0;36m<module>\u001b[1;34m\u001b[0m\n\u001b[0;32m     11\u001b[0m     \u001b[0mtime\u001b[0m\u001b[1;33m.\u001b[0m\u001b[0msleep\u001b[0m\u001b[1;33m(\u001b[0m\u001b[1;36m5\u001b[0m\u001b[1;33m)\u001b[0m\u001b[1;33m\u001b[0m\u001b[1;33m\u001b[0m\u001b[0m\n\u001b[0;32m     12\u001b[0m     \u001b[1;31m# Scrape Generated Keywords elements\u001b[0m\u001b[1;33m\u001b[0m\u001b[1;33m\u001b[0m\u001b[1;33m\u001b[0m\u001b[0m\n\u001b[1;32m---> 13\u001b[1;33m     \u001b[0mkeywords_list_lv2_part_elements\u001b[0m \u001b[1;33m=\u001b[0m \u001b[0mdriver\u001b[0m\u001b[1;33m.\u001b[0m\u001b[0mfind_elements_by_xpath\u001b[0m\u001b[1;33m(\u001b[0m\u001b[0mkeyelements\u001b[0m\u001b[1;33m[\u001b[0m\u001b[1;36m4\u001b[0m\u001b[1;33m]\u001b[0m\u001b[1;33m)\u001b[0m \u001b[1;31m#key-4\u001b[0m\u001b[1;33m\u001b[0m\u001b[1;33m\u001b[0m\u001b[0m\n\u001b[0m\u001b[0;32m     14\u001b[0m \u001b[1;33m\u001b[0m\u001b[0m\n\u001b[0;32m     15\u001b[0m     \u001b[1;31m# Create keywords_list_lv2_part (text elements)\u001b[0m\u001b[1;33m\u001b[0m\u001b[1;33m\u001b[0m\u001b[1;33m\u001b[0m\u001b[0m\n",
                        "\u001b[1;31mNameError\u001b[0m: name 'keyelements' is not defined"
                    ]
                }
            ],
            "metadata": {}
        }
    ],
    "metadata": {
        "orig_nbformat": 4,
        "language_info": {
            "name": "python",
            "version": "3.8.8",
            "mimetype": "text/x-python",
            "codemirror_mode": {
                "name": "ipython",
                "version": 3
            },
            "pygments_lexer": "ipython3",
            "nbconvert_exporter": "python",
            "file_extension": ".py"
        },
        "kernelspec": {
            "name": "python3",
            "display_name": "Python 3.8.8 64-bit ('base': conda)"
        },
        "interpreter": {
            "hash": "f35f510a60b7275e1f51967d4414b2318b6221ba120b2cd4abc1349a2b4bdac4"
        }
    },
    "nbformat": 4,
    "nbformat_minor": 2
}